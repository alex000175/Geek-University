{
 "cells": [
  {
   "cell_type": "code",
   "execution_count": 1,
   "metadata": {},
   "outputs": [
    {
     "data": {
      "text/plain": [
       "'ru'"
      ]
     },
     "execution_count": 1,
     "metadata": {},
     "output_type": "execute_result"
    }
   ],
   "source": [
    "import requests\n",
    "import locale\n",
    "\n",
    "from lxml import html\n",
    "from pymongo import MongoClient\n",
    "from pymongo.errors import DuplicateKeyError\n",
    "from pprint import pprint\n",
    "from datetime import date\n",
    "\n",
    "locale.setlocale(locale.LC_TIME, 'ru')\n"
   ]
  },
  {
   "cell_type": "code",
   "execution_count": 2,
   "metadata": {},
   "outputs": [],
   "source": [
    "# Подготовим базу данных\n",
    "client = MongoClient('localhost', 27017)\n",
    "db = client['news']  # hh - database\n",
    "my_news = db.my_news  # items - collection\n",
    "\n"
   ]
  },
  {
   "cell_type": "code",
   "execution_count": 3,
   "metadata": {},
   "outputs": [],
   "source": [
    "# функция добавления данных в БД\n",
    "def add_data_to_db(doc, only_new = True):\n",
    "    exists = my_news.find_one({'link': doc['link']})\n",
    "    if only_new == True:\n",
    "        if not exists:\n",
    "            try:\n",
    "                my_news.insert_one(doc)\n",
    "            except DuplicateKeyError:\n",
    "                pass\n",
    "    else:\n",
    "        try:\n",
    "            my_news.insert_one(doc)\n",
    "        except DuplicateKeyError:\n",
    "            pass"
   ]
  },
  {
   "cell_type": "code",
   "execution_count": 4,
   "metadata": {},
   "outputs": [
    {
     "name": "stdout",
     "output_type": "stream",
     "text": [
      "URL is https://lenta.ru/parts/news\n",
      "Status code is 200\n"
     ]
    }
   ],
   "source": [
    "# Получаем данные со страницы\n",
    "headers = {'User-Agent': 'Mozilla/5.0 (X11; Linux x86_64) AppleWebKit/537.36 (KHTML, like Gecko) Chrome/114.0.0.0 Safari/537.36'}\n",
    "url = \"https://lenta.ru\"\n",
    "session = requests.Session()\n",
    "\n",
    "response = session.get(url+'/parts/news', headers=headers)\n",
    "\n",
    "# https://lenta.ru/parts/news/\n",
    "print(f'URL is {response.url}')\n",
    "print(f'Status code is {response.status_code}')\n",
    "\n",
    "dom = html.fromstring(response.text)\n"
   ]
  },
  {
   "cell_type": "code",
   "execution_count": 5,
   "metadata": {},
   "outputs": [],
   "source": [
    "items = dom.xpath(\"//li[@class='parts-page__item']\")\n",
    "# all_news = []\n",
    "for item in items:\n",
    "    news = {}\n",
    "    resource = url\n",
    "    name = item.xpath(\".//h3[@class='card-full-news__title']/text()\")\n",
    "    link = item.xpath(\".//h3[@class='card-full-news__title']/../@href\")\n",
    "    news_time = item.xpath(\".//time[contains(@class,'card-full-news__date')]/text()\")\n",
    "    \n",
    "\n",
    "    news['resource'] = resource\n",
    "    news['name'] = ''.join(name)\n",
    "    \n",
    "    if 'https' in str(link):\n",
    "        news['link'] = ''.join(link)\n",
    "    else:\n",
    "        news['link'] = url + ''.join(link)\n",
    "    \n",
    "    if len(''.join(news_time))<10:\n",
    "        news['news_time'] = ''.join(news_time) + ', ' + date.today().strftime(\"%d %B %Y\")\n",
    "    else:\n",
    "        news['news_time'] = ''.join(news_time)\n",
    "\n",
    "\n",
    "    add_data_to_db(news, only_new=True)\n"
   ]
  },
  {
   "cell_type": "code",
   "execution_count": 6,
   "metadata": {},
   "outputs": [
    {
     "name": "stdout",
     "output_type": "stream",
     "text": [
      "{'_id': ObjectId('64bcd2464155afe95155fed9'),\n",
      " 'link': 'https://moslenta.ru/news/city/dojdi-i-grozi-23-07-2023.htm/',\n",
      " 'name': 'Синоптик предупредил москвичей о дождях и грозах',\n",
      " 'news_time': '10:03, 23 Июль 2023',\n",
      " 'resource': 'https://lenta.ru'}\n",
      "{'_id': ObjectId('64bcd2474155afe95155feda'),\n",
      " 'link': 'https://lenta.ru/news/2023/07/23/kassetttt/',\n",
      " 'name': 'Военные эксперты оценили ход наступления ВСУ после применения '\n",
      "         'кассетных снарядов',\n",
      " 'news_time': '10:02, 23 Июль 2023',\n",
      " 'resource': 'https://lenta.ru'}\n",
      "{'_id': ObjectId('64bcd2474155afe95155fedb'),\n",
      " 'link': 'https://lenta.ru/news/2023/07/23/nepomenyay/',\n",
      " 'name': 'Россиянин-чемпион ОИ по плаванию высказался о возможной смене '\n",
      "         'гражданства',\n",
      " 'news_time': '10:00, 23 Июль 2023',\n",
      " 'resource': 'https://lenta.ru'}\n",
      "{'_id': ObjectId('64bcd2474155afe95155fedc'),\n",
      " 'link': 'https://moslenta.ru/news/city/muzhchina-vzorval-granatu-23-07-2023.htm/',\n",
      " 'name': 'Мужчина взорвал гранату во время застолья в подмосковной деревне',\n",
      " 'news_time': '09:56, 23 Июль 2023',\n",
      " 'resource': 'https://lenta.ru'}\n",
      "{'_id': ObjectId('64bcd2474155afe95155fedd'),\n",
      " 'link': 'https://lenta.ru/news/2023/07/23/sobor/',\n",
      " 'name': 'В Одессе после взрывов поврежден Спасо-Преображенский собор',\n",
      " 'news_time': '09:56, 23 Июль 2023',\n",
      " 'resource': 'https://lenta.ru'}\n",
      "{'_id': ObjectId('64bcd2474155afe95155fede'),\n",
      " 'link': 'https://lenta.ru/news/2023/07/23/obyasnil/',\n",
      " 'name': 'Олимпийский чемпион объяснил слова Исинбаевой о номинальных воинских '\n",
      "         'званиях',\n",
      " 'news_time': '09:42, 23 Июль 2023',\n",
      " 'resource': 'https://lenta.ru'}\n",
      "{'_id': ObjectId('64bcd2474155afe95155fedf'),\n",
      " 'link': 'https://moslenta.ru/news/city/samokatchik-sbil-rebenka-23-07-2023.htm/',\n",
      " 'name': 'Самокатчик сбил ребенка в центре Москвы и попал на видео',\n",
      " 'news_time': '09:24, 23 Июль 2023',\n",
      " 'resource': 'https://lenta.ru'}\n",
      "{'_id': ObjectId('64bcd2474155afe95155fee0'),\n",
      " 'link': 'https://lenta.ru/news/2023/07/23/birdddd/',\n",
      " 'name': 'Маск пообещал изменить логотип Twitter',\n",
      " 'news_time': '09:18, 23 Июль 2023',\n",
      " 'resource': 'https://lenta.ru'}\n",
      "{'_id': ObjectId('64bcd2474155afe95155fee1'),\n",
      " 'link': 'https://moslenta.ru/news/city/smertelnaya-avariya-23-07-2023.htm/',\n",
      " 'name': 'Смертельная авария на третьем транспортном кольце в Москве попала на '\n",
      "         'видео',\n",
      " 'news_time': '09:12, 23 Июль 2023',\n",
      " 'resource': 'https://lenta.ru'}\n",
      "{'_id': ObjectId('64bcd2474155afe95155fee2'),\n",
      " 'link': 'https://lenta.ru/news/2023/07/23/shame/',\n",
      " 'name': 'В Европарламенте пристыдили ЕС за махинации с зерновой сделкой',\n",
      " 'news_time': '09:07, 23 Июль 2023',\n",
      " 'resource': 'https://lenta.ru'}\n",
      "{'_id': ObjectId('64bcd2474155afe95155fee3'),\n",
      " 'link': 'https://lenta.ru/news/2023/07/23/mesyats/',\n",
      " 'name': 'Эксперт рассказала о самых выгодных месяцах для отпуска в 2024 году',\n",
      " 'news_time': '08:52, 23 Июль 2023',\n",
      " 'resource': 'https://lenta.ru'}\n",
      "{'_id': ObjectId('64bcd2474155afe95155fee4'),\n",
      " 'link': 'https://lenta.ru/news/2023/07/23/bloxa/',\n",
      " 'name': 'Мужчине ампутировали обе руки из-за укуса блохи',\n",
      " 'news_time': '08:49, 23 Июль 2023',\n",
      " 'resource': 'https://lenta.ru'}\n",
      "{'_id': ObjectId('64bcd2474155afe95155fee5'),\n",
      " 'link': 'https://lenta.ru/news/2023/07/23/abaskal2/',\n",
      " 'name': 'Иностранный тренер «Спартака» объяснил решение провести отпуск в '\n",
      "         'России',\n",
      " 'news_time': '08:37, 23 Июль 2023',\n",
      " 'resource': 'https://lenta.ru'}\n",
      "{'_id': ObjectId('64bcd2474155afe95155fee6'),\n",
      " 'link': 'https://lenta.ru/news/2023/07/23/inf/',\n",
      " 'name': 'Продовольственная инфляция в России в июне стала самой низкой в '\n",
      "         'Европе',\n",
      " 'news_time': '08:34, 23 Июль 2023',\n",
      " 'resource': 'https://lenta.ru'}\n",
      "{'_id': ObjectId('64bcd2474155afe95155fee7'),\n",
      " 'link': 'https://lenta.ru/news/2023/07/23/razocharov/',\n",
      " 'name': 'В США заявили о разочаровании Запада в украинцах',\n",
      " 'news_time': '08:29, 23 Июль 2023',\n",
      " 'resource': 'https://lenta.ru'}\n",
      "{'_id': ObjectId('64bcd2474155afe95155fee8'),\n",
      " 'link': 'https://moslenta.ru/news/lyudi/ottalkivayushie-ankety-23-07-2023.htm/',\n",
      " 'name': 'Москвичи перечислили самые отталкивающие анкеты в приложениях для '\n",
      "         'знакомств',\n",
      " 'news_time': '08:20, 23 Июль 2023',\n",
      " 'resource': 'https://lenta.ru'}\n",
      "{'_id': ObjectId('64bcd2474155afe95155fee9'),\n",
      " 'link': 'https://lenta.ru/news/2023/07/23/granata/',\n",
      " 'name': 'В Подмосковье мужчина взорвал гранату во время застолья',\n",
      " 'news_time': '08:08, 23 Июль 2023',\n",
      " 'resource': 'https://lenta.ru'}\n",
      "{'_id': ObjectId('64bcd2474155afe95155feea'),\n",
      " 'link': 'https://lenta.ru/news/2023/07/23/nalooog/',\n",
      " 'name': 'Россиянам рассказали о способах экономии при уплате налога на '\n",
      "         'имущество',\n",
      " 'news_time': '07:58, 23 Июль 2023',\n",
      " 'resource': 'https://lenta.ru'}\n",
      "{'_id': ObjectId('64bcd2474155afe95155feeb'),\n",
      " 'link': 'https://lenta.ru/news/2023/07/23/vred/',\n",
      " 'name': 'Врач предупредил о вреде энергетиков в жару',\n",
      " 'news_time': '07:55, 23 Июль 2023',\n",
      " 'resource': 'https://lenta.ru'}\n",
      "{'_id': ObjectId('64bcd2474155afe95155feec'),\n",
      " 'link': 'https://lenta.ru/news/2023/07/23/kemerovo/',\n",
      " 'name': 'Тело пропавшего шестилетнего мальчика нашли в водоеме возле дома в '\n",
      "         'Кемерово',\n",
      " 'news_time': '07:48, 23 Июль 2023',\n",
      " 'resource': 'https://lenta.ru'}\n"
     ]
    }
   ],
   "source": [
    "# Проверяем, что данные в БД\n",
    "for item in my_news.find({'resource': url}):\n",
    "    pprint(item)"
   ]
  }
 ],
 "metadata": {
  "kernelspec": {
   "display_name": "Python 3",
   "language": "python",
   "name": "python3"
  },
  "language_info": {
   "codemirror_mode": {
    "name": "ipython",
    "version": 3
   },
   "file_extension": ".py",
   "mimetype": "text/x-python",
   "name": "python",
   "nbconvert_exporter": "python",
   "pygments_lexer": "ipython3",
   "version": "3.10.5"
  },
  "orig_nbformat": 4
 },
 "nbformat": 4,
 "nbformat_minor": 2
}
